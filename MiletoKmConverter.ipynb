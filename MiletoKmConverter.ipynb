{
  "nbformat": 4,
  "nbformat_minor": 0,
  "metadata": {
    "colab": {
      "provenance": [],
      "authorship_tag": "ABX9TyMiqmPRraEoh43WiFht0PXD",
      "include_colab_link": true
    },
    "kernelspec": {
      "name": "python3",
      "display_name": "Python 3"
    },
    "language_info": {
      "name": "python"
    }
  },
  "cells": [
    {
      "cell_type": "markdown",
      "metadata": {
        "id": "view-in-github",
        "colab_type": "text"
      },
      "source": [
        "<a href=\"https://colab.research.google.com/github/wizkers007/python/blob/main/MiletoKmConverter.ipynb\" target=\"_parent\"><img src=\"https://colab.research.google.com/assets/colab-badge.svg\" alt=\"Open In Colab\"/></a>"
      ]
    },
    {
      "cell_type": "code",
      "execution_count": null,
      "metadata": {
        "id": "AuWEVSy72dpb"
      },
      "outputs": [],
      "source": [
        "from tkinter import *\n",
        "\n",
        "\n",
        "def button_clicked():\n",
        "\n",
        "    new_text = float(input.get()) * 1.609344\n",
        "    new_label3.config(text=new_text)\n",
        "\n",
        "\n",
        "window = Tk()\n",
        "window.title(\"Mile to Km Converter\")\n",
        "window.minsize(width=50, height=30)\n",
        "window.config(padx=10, pady=10)\n",
        "\n",
        "#Label\n",
        "my_label = Label(text=\"is equal to\", font=(\"Arial\", 12, \"bold\"))\n",
        "#my_label.config(text=\"is equal to\")\n",
        "my_label.grid(column=0, row=1)\n",
        "my_label.config(padx=10, pady=10)\n",
        "\n",
        "#Label\n",
        "new_label = Label(text=\"Miles\", font=(\"Arial\", 12, \"bold\"))\n",
        "#new_label.config(text=\"Miles\")\n",
        "new_label.grid(column=2, row=0)\n",
        "new_label.config(padx=10, pady=10)\n",
        "\n",
        "#Label\n",
        "new_label2 = Label(text=\"Km\", font=(\"Arial\", 12, \"bold\"))\n",
        "#new_label2.config(text=\"Km\")\n",
        "new_label2.grid(column=2, row=1)\n",
        "new_label2.config(padx=10, pady=10)\n",
        "\n",
        "#Label\n",
        "new_label3 = Label(text=\"0\", font=(\"Arial\", 12, \"bold\"))\n",
        "#new_label3.config(text=\"0\")\n",
        "new_label3.grid(column=1, row=1)\n",
        "new_label3.config(padx=10, pady=10)\n",
        "\n",
        "#Button\n",
        "button = Button(text=\"Calculate\", command=button_clicked)\n",
        "button.grid(column=1, row=2)\n",
        "\n",
        "#Entry\n",
        "input = Entry(width=10)\n",
        "print(input.get())\n",
        "input.grid(column=1, row=0)\n",
        "\n",
        "\n",
        "\n",
        "\n",
        "\n",
        "\n",
        "\n",
        "\n",
        "\n",
        "window.mainloop()"
      ]
    }
  ]
}